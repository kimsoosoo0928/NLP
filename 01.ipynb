{
 "cells": [
  {
   "cell_type": "code",
   "execution_count": 49,
   "source": [
    "import numpy as np \r\n",
    "import pandas as pd\r\n",
    "import os\r\n",
    "import matplotlib.pyplot as plt\r\n",
    "import seaborn as sns\r\n",
    "%matplotlib inline\r\n",
    "\r\n",
    "DATA_IN_PATH = \"./data_in/\"\r\n",
    "\r\n",
    "train_data = pd.read_csv(DATA_IN_PATH+\"labeledTrainData.tsv\", header=0, delimiter=\"\\t\", quoting=3)"
   ],
   "outputs": [],
   "metadata": {}
  },
  {
   "cell_type": "code",
   "execution_count": 50,
   "source": [
    "train_data.head()"
   ],
   "outputs": [
    {
     "output_type": "execute_result",
     "data": {
      "text/html": [
       "<div>\n",
       "<style scoped>\n",
       "    .dataframe tbody tr th:only-of-type {\n",
       "        vertical-align: middle;\n",
       "    }\n",
       "\n",
       "    .dataframe tbody tr th {\n",
       "        vertical-align: top;\n",
       "    }\n",
       "\n",
       "    .dataframe thead th {\n",
       "        text-align: right;\n",
       "    }\n",
       "</style>\n",
       "<table border=\"1\" class=\"dataframe\">\n",
       "  <thead>\n",
       "    <tr style=\"text-align: right;\">\n",
       "      <th></th>\n",
       "      <th>id</th>\n",
       "      <th>sentiment</th>\n",
       "      <th>review</th>\n",
       "    </tr>\n",
       "  </thead>\n",
       "  <tbody>\n",
       "    <tr>\n",
       "      <th>0</th>\n",
       "      <td>\"5814_8\"</td>\n",
       "      <td>1</td>\n",
       "      <td>\"With all this stuff going down at the moment ...</td>\n",
       "    </tr>\n",
       "    <tr>\n",
       "      <th>1</th>\n",
       "      <td>\"2381_9\"</td>\n",
       "      <td>1</td>\n",
       "      <td>\"\\\"The Classic War of the Worlds\\\" by Timothy ...</td>\n",
       "    </tr>\n",
       "    <tr>\n",
       "      <th>2</th>\n",
       "      <td>\"7759_3\"</td>\n",
       "      <td>0</td>\n",
       "      <td>\"The film starts with a manager (Nicholas Bell...</td>\n",
       "    </tr>\n",
       "    <tr>\n",
       "      <th>3</th>\n",
       "      <td>\"3630_4\"</td>\n",
       "      <td>0</td>\n",
       "      <td>\"It must be assumed that those who praised thi...</td>\n",
       "    </tr>\n",
       "    <tr>\n",
       "      <th>4</th>\n",
       "      <td>\"9495_8\"</td>\n",
       "      <td>1</td>\n",
       "      <td>\"Superbly trashy and wondrously unpretentious ...</td>\n",
       "    </tr>\n",
       "  </tbody>\n",
       "</table>\n",
       "</div>"
      ],
      "text/plain": [
       "         id  sentiment                                             review\n",
       "0  \"5814_8\"          1  \"With all this stuff going down at the moment ...\n",
       "1  \"2381_9\"          1  \"\\\"The Classic War of the Worlds\\\" by Timothy ...\n",
       "2  \"7759_3\"          0  \"The film starts with a manager (Nicholas Bell...\n",
       "3  \"3630_4\"          0  \"It must be assumed that those who praised thi...\n",
       "4  \"9495_8\"          1  \"Superbly trashy and wondrously unpretentious ..."
      ]
     },
     "metadata": {},
     "execution_count": 50
    }
   ],
   "metadata": {}
  },
  {
   "cell_type": "code",
   "execution_count": 51,
   "source": [
    "print(\"파일 크기 : \")\r\n",
    "for file in os.listdir(DATA_IN_PATH):\r\n",
    "    if 'tsv' in file and 'zip' not in file:\r\n",
    "        print(file.ljust(30) + str(round(os.path.getsize(DATA_IN_PATH + file) / 1000000, 2)) + 'MB')"
   ],
   "outputs": [
    {
     "output_type": "stream",
     "name": "stdout",
     "text": [
      "파일 크기 : \n",
      "labeledTrainData.tsv          33.56MB\n",
      "testData.tsv                  32.72MB\n",
      "unlabeledTrainData.tsv        67.28MB\n"
     ]
    }
   ],
   "metadata": {}
  },
  {
   "cell_type": "code",
   "execution_count": null,
   "source": [
    "print('전체 학습데이터의 개수: {}'.format(len(train_data)))"
   ],
   "outputs": [],
   "metadata": {}
  },
  {
   "cell_type": "code",
   "execution_count": null,
   "source": [
    "train_length = train_data['review'].apply(len)"
   ],
   "outputs": [],
   "metadata": {}
  },
  {
   "cell_type": "code",
   "execution_count": null,
   "source": [
    "train_length.head()"
   ],
   "outputs": [],
   "metadata": {}
  },
  {
   "cell_type": "code",
   "execution_count": null,
   "source": [
    "# 그래프에 대한 이미지 사이즈 선언\r\n",
    "# figsize: (가로, 세로) 형태의 튜플로 입력\r\n",
    "plt.figure(figsize=(12, 5))\r\n",
    "# 히스토그램 선언\r\n",
    "# bins: 히스토그램 값들에 대한 버켓 범위\r\n",
    "# range: x축 값의 범위\r\n",
    "# alpha: 그래프 색상 투명도\r\n",
    "# color: 그래프 색상\r\n",
    "# label: 그래프에 대한 라벨\r\n",
    "plt.hist(train_length, bins=200, alpha=0.5, color= 'r', label='word')\r\n",
    "plt.yscale('log', nonposy='clip')\r\n",
    "# 그래프 제목\r\n",
    "plt.title('Log-Histogram of length of review')\r\n",
    "# 그래프 x 축 라벨\r\n",
    "plt.xlabel('Length of review')\r\n",
    "# 그래프 y 축 라벨\r\n",
    "plt.ylabel('Number of review')"
   ],
   "outputs": [],
   "metadata": {}
  },
  {
   "cell_type": "code",
   "execution_count": null,
   "source": [
    "\r\n",
    "print('리뷰 길이 최대 값: {}'.format(np.max(train_length)))\r\n",
    "print('리뷰 길이 최소 값: {}'.format(np.min(train_length)))\r\n",
    "print('리뷰 길이 평균 값: {:.2f}'.format(np.mean(train_length)))\r\n",
    "print('리뷰 길이 표준편차: {:.2f}'.format(np.std(train_length)))\r\n",
    "print('리뷰 길이 중간 값: {}'.format(np.median(train_length)))\r\n",
    "# 사분위의 대한 경우는 0~100 스케일로 되어있음\r\n",
    "print('리뷰 길이 제 1 사분위: {}'.format(np.percentile(train_length, 25)))\r\n",
    "print('리뷰 길이 제 3 사분위: {}'.format(np.percentile(train_length, 75)))"
   ],
   "outputs": [],
   "metadata": {}
  },
  {
   "cell_type": "code",
   "execution_count": null,
   "source": [
    "plt.figure(figsize=(12, 5))\r\n",
    "# 박스플롯 생성\r\n",
    "# 첫번째 파라메터: 여러 분포에 대한 데이터 리스트를 입력\r\n",
    "# labels: 입력한 데이터에 대한 라벨\r\n",
    "# showmeans: 평균값을 마크함\r\n",
    "\r\n",
    "plt.boxplot(train_length,\r\n",
    "             labels=['counts'],\r\n",
    "             showmeans=True)"
   ],
   "outputs": [],
   "metadata": {}
  },
  {
   "cell_type": "code",
   "execution_count": null,
   "source": [
    "from wordcloud import WordCloud\r\n",
    "cloud = WordCloud(width=800, height=600).generate(\" \".join(train_data['review']))\r\n",
    "plt.figure(figsize=(20, 15))\r\n",
    "plt.imshow(cloud)\r\n",
    "plt.axis('off')"
   ],
   "outputs": [],
   "metadata": {}
  }
 ],
 "metadata": {
  "orig_nbformat": 4,
  "language_info": {
   "name": "python",
   "version": "3.8.8",
   "mimetype": "text/x-python",
   "codemirror_mode": {
    "name": "ipython",
    "version": 3
   },
   "pygments_lexer": "ipython3",
   "nbconvert_exporter": "python",
   "file_extension": ".py"
  },
  "kernelspec": {
   "name": "python3",
   "display_name": "Python 3.8.8 64-bit ('base': conda)"
  },
  "interpreter": {
   "hash": "b3ba2566441a7c06988d0923437866b63cedc61552a5af99d1f4fb67d367b25f"
  }
 },
 "nbformat": 4,
 "nbformat_minor": 2
}